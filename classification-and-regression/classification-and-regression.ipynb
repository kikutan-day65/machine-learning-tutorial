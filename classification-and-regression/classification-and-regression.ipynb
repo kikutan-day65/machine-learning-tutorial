{
 "cells": [
  {
   "cell_type": "code",
   "execution_count": 1,
   "id": "89c66f66",
   "metadata": {},
   "outputs": [],
   "source": [
    "import numpy as np\n",
    "import matplotlib.pyplot as plt\n",
    "%matplotlib inline\n",
    "\n",
    "from sklearn.linear_model import LinearRegression\n",
    "from sklearn.neighbors import KNeighborsClassifier"
   ]
  },
  {
   "cell_type": "code",
   "execution_count": 6,
   "id": "b8396261",
   "metadata": {},
   "outputs": [
    {
     "data": {
      "image/png": "[encoded data removed]",
      "text/plain": [
       "<Figure size 640x480 with 1 Axes>"
      ]
     },
     "metadata": {},
     "output_type": "display_data"
    }
   ],
   "source": [
    "# データ生成の中心点\n",
    "center = [\n",
    "    [1.5, 0.5],\n",
    "    [-2.0, -1.0],\n",
    "    [0, 0]\n",
    "]\n",
    "\n",
    "# 各中心点から生成する点の数\n",
    "DSIZE = 20\n",
    "\n",
    "# データの生成\n",
    "data = [c + (np.random.randn(DSIZE, 2) / 2) for c in center]\n",
    "data = np.concatenate(data)\n",
    "\n",
    "# 生成された元の点ごとのラベル\n",
    "label = np.arange(3 * DSIZE) // DSIZE\n",
    "\n",
    "\n",
    "# 表示\n",
    "for i in range(3):\n",
    "    plt.scatter(data[:, 0][label==i], data[:, 1][label==i])"
   ]
  },
  {
   "cell_type": "code",
   "execution_count": 9,
   "id": "b791cf65",
   "metadata": {},
   "outputs": [
    {
     "name": "stdout",
     "output_type": "stream",
     "text": [
      "[[-1.50367418]\n",
      " [-1.15836173]\n",
      " [-0.81304928]\n",
      " [-0.46773684]\n",
      " [-0.12242439]\n",
      " [ 0.22288805]\n",
      " [ 0.5682005 ]\n",
      " [ 0.91351295]\n",
      " [ 1.25882539]]\n"
     ]
    }
   ],
   "source": [
    "## 線形回帰の例\n",
    "# 点データを(x, y)に分割 => (予測モデルへの入力値, 予測したい値)\n",
    "X, y = np.split(data, 2, axis=1)\n",
    "\n",
    "# 予測モデルの作成、適当なx座標の入力し、y座標の値を予測\n",
    "lr = LinearRegression().fit(X, y)\n",
    "test_X = np.arange(-4, 5)\n",
    "test_X = test_X.reshape(len(test_X), 1)\n",
    "y_predict = lr.predict(test_X)\n",
    "\n",
    "# 予測結果の表示\n",
    "print(y_predict)"
   ]
  },
  {
   "cell_type": "code",
   "execution_count": 10,
   "id": "57b97772",
   "metadata": {},
   "outputs": [
    {
     "name": "stdout",
     "output_type": "stream",
     "text": [
      "[[0.91351295]]\n"
     ]
    }
   ],
   "source": [
    "# 今回の予測モデルの式\n",
    "y_predict_function = lambda x: x * lr.coef_ + lr.intercept_\n",
    "print(y_predict_function(3))"
   ]
  },
  {
   "cell_type": "code",
   "execution_count": null,
   "id": "579f49b7",
   "metadata": {},
   "outputs": [],
   "source": []
  }
 ],
 "metadata": {
  "kernelspec": {
   "display_name": "Python 3 (ipykernel)",
   "language": "python",
   "name": "python3"
  },
  "language_info": {
   "codemirror_mode": {
    "name": "ipython",
    "version": 3
   },
   "file_extension": ".py",
   "mimetype": "text/x-python",
   "name": "python",
   "nbconvert_exporter": "python",
   "pygments_lexer": "ipython3",
   "version": "3.9.13"
  }
 },
 "nbformat": 4,
 "nbformat_minor": 5
}
